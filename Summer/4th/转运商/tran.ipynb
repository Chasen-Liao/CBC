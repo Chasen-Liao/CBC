{
 "cells": [
  {
   "cell_type": "markdown",
   "id": "cffcd9dd",
   "metadata": {},
   "source": [
    "# 转运商的评价 -- topsis"
   ]
  },
  {
   "cell_type": "code",
   "execution_count": 21,
   "id": "9e9b19aa",
   "metadata": {},
   "outputs": [],
   "source": [
    "import pandas as pd\n",
    "import numpy as np"
   ]
  },
  {
   "cell_type": "code",
   "execution_count": 22,
   "id": "08e54202",
   "metadata": {},
   "outputs": [
    {
     "data": {
      "application/vnd.microsoft.datawrangler.viewer.v0+json": {
       "columns": [
        {
         "name": "index",
         "rawType": "int64",
         "type": "integer"
        },
        {
         "name": "次数",
         "rawType": "int64",
         "type": "integer"
        },
        {
         "name": "求和",
         "rawType": "float64",
         "type": "float"
        },
        {
         "name": "均值",
         "rawType": "float64",
         "type": "float"
        }
       ],
       "ref": "df78312a-3d38-40cb-a21f-30a8bdc1ec01",
       "rows": [
        [
         "0",
         "240",
         "457.1446",
         "1.90476916666667"
        ],
        [
         "1",
         "240",
         "221.1289",
         "0.921370416666667"
        ],
        [
         "2",
         "117",
         "21.7685",
         "0.186055555555555"
        ],
        [
         "3",
         "102",
         "160.1892",
         "1.57048235294118"
        ],
        [
         "4",
         "83",
         "239.8555",
         "2.88982530120482"
        ],
        [
         "5",
         "216",
         "117.4524",
         "0.543761111111111"
        ],
        [
         "6",
         "240",
         "498.92",
         "2.07883333333333"
        ],
        [
         "7",
         "203",
         "205.0874",
         "1.01028275862069"
        ]
       ],
       "shape": {
        "columns": 3,
        "rows": 8
       }
      },
      "text/html": [
       "<div>\n",
       "<style scoped>\n",
       "    .dataframe tbody tr th:only-of-type {\n",
       "        vertical-align: middle;\n",
       "    }\n",
       "\n",
       "    .dataframe tbody tr th {\n",
       "        vertical-align: top;\n",
       "    }\n",
       "\n",
       "    .dataframe thead th {\n",
       "        text-align: right;\n",
       "    }\n",
       "</style>\n",
       "<table border=\"1\" class=\"dataframe\">\n",
       "  <thead>\n",
       "    <tr style=\"text-align: right;\">\n",
       "      <th></th>\n",
       "      <th>次数</th>\n",
       "      <th>求和</th>\n",
       "      <th>均值</th>\n",
       "    </tr>\n",
       "  </thead>\n",
       "  <tbody>\n",
       "    <tr>\n",
       "      <th>0</th>\n",
       "      <td>240</td>\n",
       "      <td>457.1446</td>\n",
       "      <td>1.904769</td>\n",
       "    </tr>\n",
       "    <tr>\n",
       "      <th>1</th>\n",
       "      <td>240</td>\n",
       "      <td>221.1289</td>\n",
       "      <td>0.921370</td>\n",
       "    </tr>\n",
       "    <tr>\n",
       "      <th>2</th>\n",
       "      <td>117</td>\n",
       "      <td>21.7685</td>\n",
       "      <td>0.186056</td>\n",
       "    </tr>\n",
       "    <tr>\n",
       "      <th>3</th>\n",
       "      <td>102</td>\n",
       "      <td>160.1892</td>\n",
       "      <td>1.570482</td>\n",
       "    </tr>\n",
       "    <tr>\n",
       "      <th>4</th>\n",
       "      <td>83</td>\n",
       "      <td>239.8555</td>\n",
       "      <td>2.889825</td>\n",
       "    </tr>\n",
       "    <tr>\n",
       "      <th>5</th>\n",
       "      <td>216</td>\n",
       "      <td>117.4524</td>\n",
       "      <td>0.543761</td>\n",
       "    </tr>\n",
       "    <tr>\n",
       "      <th>6</th>\n",
       "      <td>240</td>\n",
       "      <td>498.9200</td>\n",
       "      <td>2.078833</td>\n",
       "    </tr>\n",
       "    <tr>\n",
       "      <th>7</th>\n",
       "      <td>203</td>\n",
       "      <td>205.0874</td>\n",
       "      <td>1.010283</td>\n",
       "    </tr>\n",
       "  </tbody>\n",
       "</table>\n",
       "</div>"
      ],
      "text/plain": [
       "    次数        求和        均值\n",
       "0  240  457.1446  1.904769\n",
       "1  240  221.1289  0.921370\n",
       "2  117   21.7685  0.186056\n",
       "3  102  160.1892  1.570482\n",
       "4   83  239.8555  2.889825\n",
       "5  216  117.4524  0.543761\n",
       "6  240  498.9200  2.078833\n",
       "7  203  205.0874  1.010283"
      ]
     },
     "execution_count": 22,
     "metadata": {},
     "output_type": "execute_result"
    }
   ],
   "source": [
    "# 读取数据\n",
    "# 数据读取\n",
    "data = pd.read_excel('附件2近5年8家转运商的相关数据.xlsx', sheet_name='运输损耗率（%）')\n",
    "data = data[['次数', '求和', '均值']] \n",
    "data.head(10)"
   ]
  },
  {
   "cell_type": "code",
   "execution_count": null,
   "id": "aa289114",
   "metadata": {},
   "outputs": [],
   "source": [
    "def normalize_indicators(data_matrix, indicator_types, ideal_values=None):\n",
    "    \"\"\"\n",
    "    根据指标类型对数据进行正向化处理\n",
    "    \n",
    "    :param data_matrix: 二维数组，行为供应商，列为指标\n",
    "    :param indicator_types: 列表，指示每个指标的类型\n",
    "        'positive' - 极大型指标（越大越好）\n",
    "        'negative' - 极小型指标（越小越好）\n",
    "        'moderate' - 中间型指标（越接近某个值越好）\n",
    "    :param ideal_values: 中间型指标的理想值列表\n",
    "    :return: 正向化后的数据矩阵\n",
    "    \"\"\"\n",
    "    if isinstance(data_matrix, pd.DataFrame):\n",
    "        data_matrix = data_matrix.values\n",
    "    normalized_matrix = np.zeros_like(data_matrix, dtype=float) # 归一化矩阵\n",
    "    n_indicators = data_matrix.shape[1]\n",
    "    \n",
    "    for j in range(n_indicators):\n",
    "        col = data_matrix[:, j]\n",
    "        indicator_type = indicator_types[j]\n",
    "        \n",
    "        if indicator_type == 'positive':\n",
    "            # 极大型指标：无需处理\n",
    "            normalized_matrix[:, j] = col\n",
    "            \n",
    "        elif indicator_type == 'negative':\n",
    "            # 极小型指标：转化为极大型\n",
    "            # 方法1：取倒数（适用于无零值的情况）\n",
    "            # normalized_matrix[:, j] = 1 / (col + 1e-10)\n",
    "            \n",
    "            # 方法2：用最大值减去当前值（更常用）\n",
    "            max_val = np.max(col)\n",
    "            normalized_matrix[:, j] = max_val - col\n",
    "            \n",
    "        elif indicator_type == 'moderate':\n",
    "            # 中间型指标：转化为极大型（越接近理想值越好）\n",
    "            if ideal_values is None:\n",
    "                raise ValueError(\"必须为中间型指标提供理想值\")\n",
    "                \n",
    "            ideal = ideal_values[j]\n",
    "            # 计算与理想值的绝对偏差\n",
    "            deviation = np.abs(col - ideal)\n",
    "            # 最大偏差（避免除零）\n",
    "            max_dev = np.max(deviation) if np.max(deviation) > 0 else 1\n",
    "            # 转化为极大型：偏差越小越好\n",
    "            normalized_matrix[:, j] = 1 - deviation / max_dev\n",
    "    \n",
    "    return normalized_matrix"
   ]
  },
  {
   "cell_type": "code",
   "execution_count": 24,
   "id": "5a35d7cc",
   "metadata": {},
   "outputs": [
    {
     "data": {
      "text/plain": [
       "array([[240.        ,  41.7754    ,   0.98505613],\n",
       "       [240.        , 277.7911    ,   1.96845488],\n",
       "       [117.        , 477.1515    ,   2.70376975],\n",
       "       [102.        , 338.7308    ,   1.31934295],\n",
       "       [ 83.        , 259.0645    ,   0.        ],\n",
       "       [216.        , 381.4676    ,   2.34606419],\n",
       "       [240.        ,   0.        ,   0.81099197],\n",
       "       [203.        , 293.8326    ,   1.87954254]])"
      ]
     },
     "execution_count": 24,
     "metadata": {},
     "output_type": "execute_result"
    }
   ],
   "source": [
    "indicator_types = ['positive', 'negative', 'negative']\n",
    "ideal_values = [None, None, None]\n",
    "normalize_matrix = normalize_indicators(data, indicator_types, ideal_values)\n",
    "\n",
    "normalize_matrix\n"
   ]
  },
  {
   "cell_type": "code",
   "execution_count": 25,
   "id": "7c48e65f",
   "metadata": {},
   "outputs": [],
   "source": [
    "def topsis_method(data_matrix):\n",
    "    \"\"\"\n",
    "    TOPSIS方法完整实现\n",
    "    :param data_matrix: 二维数组，行为供应商，列为指标\n",
    "    :return: \n",
    "        weights: 指标权重数组\n",
    "        scores: 供应商TOPSIS得分数组\n",
    "        rankings: 供应商排名数组\n",
    "    \"\"\"\n",
    "    # 1. 矩阵归一化（向量归一化）\n",
    "    # 计算每列的平方和\n",
    "    col_sums = np.sqrt(np.sum(data_matrix**2, axis=0))\n",
    "    # 避免除零错误\n",
    "    col_sums[col_sums == 0] = 1e-10\n",
    "    # 归一化矩阵\n",
    "    norm_matrix = data_matrix / col_sums\n",
    "    \n",
    "    # 2. 利用熵权法确定指标权重\n",
    "    # 计算指标比重\n",
    "    p_matrix = norm_matrix / np.sum(norm_matrix, axis=0)\n",
    "    \n",
    "    # 计算信息熵\n",
    "    m = data_matrix.shape[0]  # 供应商数量\n",
    "    k = 1 / np.log(m)  # 熵计算系数\n",
    "    e_j = np.zeros(data_matrix.shape[1])\n",
    "    \n",
    "    for j in range(data_matrix.shape[1]):\n",
    "        col = p_matrix[:, j]\n",
    "        # 避免log(0)错误\n",
    "        with np.errstate(divide='ignore', invalid='ignore'):\n",
    "            entropy = np.sum(col * np.log(col + 1e-10))\n",
    "        e_j[j] = -k * entropy\n",
    "    \n",
    "    # 计算信息效用值\n",
    "    d_j = 1 - e_j\n",
    "    \n",
    "    # 计算权重\n",
    "    weights = d_j / np.sum(d_j)\n",
    "    \n",
    "    # 3. 构建加权规范化矩阵\n",
    "    weighted_matrix = norm_matrix * weights\n",
    "    \n",
    "    # 4. 确定正负理想解\n",
    "    positive_ideal = np.max(weighted_matrix, axis=0)\n",
    "    negative_ideal = np.min(weighted_matrix, axis=0)\n",
    "    \n",
    "    # 5. 计算欧氏距离\n",
    "    d_positive = np.sqrt(np.sum((weighted_matrix - positive_ideal)**2, axis=1))\n",
    "    d_negative = np.sqrt(np.sum((weighted_matrix - negative_ideal)**2, axis=1))\n",
    "    \n",
    "    # 6. 计算相对接近度（TOPSIS得分）\n",
    "    scores = d_negative / (d_positive + d_negative + 1e-10)\n",
    "    \n",
    "    # 7. 供应商排名\n",
    "    rankings = np.argsort(-scores)  # 从高到低排序\n",
    "    rankings = rankings + 1\n",
    "    \n",
    "    return weights, scores, rankings"
   ]
  },
  {
   "cell_type": "code",
   "execution_count": 30,
   "id": "e55f67da",
   "metadata": {},
   "outputs": [
    {
     "name": "stdout",
     "output_type": "stream",
     "text": [
      "[0.12894474 0.47287259 0.39818268]\n",
      "[0.2470085  0.64208542 0.92180964 0.60657105 0.36096057 0.82514436\n",
      " 0.19868592 0.64860739]\n",
      "[3 6 8 2 4 5 1 7]\n"
     ]
    }
   ],
   "source": [
    "weights, scores, rankings = topsis_method(normalize_matrix)\n",
    "\n",
    "print(weights)\n",
    "# print(sum(weights))\n",
    "print(scores)\n",
    "print(rankings)\n"
   ]
  },
  {
   "cell_type": "code",
   "execution_count": 28,
   "id": "1e86e5e7",
   "metadata": {},
   "outputs": [
    {
     "name": "stderr",
     "output_type": "stream",
     "text": [
      "[NbConvertApp] Converting notebook tran.ipynb to python\n",
      "[NbConvertApp] Writing 3930 bytes to tran.py\n"
     ]
    }
   ],
   "source": [
    "try:   \n",
    "    !jupyter nbconvert --to python tran.ipynb\n",
    "    # python即转化为.py，script即转化为.html\n",
    "except:\n",
    "    pass"
   ]
  }
 ],
 "metadata": {
  "kernelspec": {
   "display_name": "CBC",
   "language": "python",
   "name": "python3"
  },
  "language_info": {
   "codemirror_mode": {
    "name": "ipython",
    "version": 3
   },
   "file_extension": ".py",
   "mimetype": "text/x-python",
   "name": "python",
   "nbconvert_exporter": "python",
   "pygments_lexer": "ipython3",
   "version": "3.13.5"
  }
 },
 "nbformat": 4,
 "nbformat_minor": 5
}
